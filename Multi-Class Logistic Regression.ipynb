{
  "nbformat": 4,
  "nbformat_minor": 0,
  "metadata": {
    "colab": {
      "name": "ML Project.ipynb",
      "provenance": [],
      "collapsed_sections": []
    },
    "kernelspec": {
      "name": "python3",
      "display_name": "Python 3"
    }
  },
  "cells": [
    {
      "cell_type": "code",
      "metadata": {
        "colab": {
          "base_uri": "https://localhost:8080/"
        },
        "id": "I7v9LcymQB0q",
        "outputId": "610d4d64-382c-47fc-865a-b74fac7164f2"
      },
      "source": [
        "!pip install python_speech_features"
      ],
      "execution_count": 128,
      "outputs": [
        {
          "output_type": "stream",
          "text": [
            "Requirement already satisfied: python_speech_features in /usr/local/lib/python3.6/dist-packages (0.6)\n"
          ],
          "name": "stdout"
        }
      ]
    },
    {
      "cell_type": "code",
      "metadata": {
        "colab": {
          "base_uri": "https://localhost:8080/"
        },
        "id": "kfOJSNW4XOaQ",
        "outputId": "9af78b32-4013-4e4e-904d-02dcad93b89d"
      },
      "source": [
        "!unzip '/content/drive/MyDrive/ML Project/LUMS_FALL2020_PROJECT_DATA.zip' -d '/content/'"
      ],
      "execution_count": 129,
      "outputs": [
        {
          "output_type": "stream",
          "text": [
            "Archive:  /content/drive/MyDrive/ML Project/LUMS_FALL2020_PROJECT_DATA.zip\n",
            "replace /content/Gender_Recognition/Test/SPK083_M/1.wav? [y]es, [n]o, [A]ll, [N]one, [r]ename: "
          ],
          "name": "stdout"
        }
      ]
    },
    {
      "cell_type": "code",
      "metadata": {
        "id": "SVudwIaxZSNA"
      },
      "source": [
        "import python_speech_features as mfcc\n",
        "from scipy.io.wavfile import read\n",
        "import numpy as np\n",
        "import pandas as pd\n",
        "import re\n",
        "import os\n",
        "from sklearn.metrics import confusion_matrix,accuracy_score,f1_score\n",
        "import matplotlib.pyplot as plt\n",
        "from sklearn.metrics import confusion_matrix,accuracy_score,f1_score,classification_report"
      ],
      "execution_count": 251,
      "outputs": []
    },
    {
      "cell_type": "markdown",
      "metadata": {
        "id": "WlrVNH2aP-2E"
      },
      "source": [
        "*Functions below will be used in both Gender classification and Speaker classification*"
      ]
    },
    {
      "cell_type": "code",
      "metadata": {
        "id": "Gu8FIyKDCdxV"
      },
      "source": [
        "def get_MFCC(audio, sr):\n",
        "    features = mfcc.mfcc(audio, sr, 0.025, 0.01, 13, appendEnergy = True)\n",
        "    return np.mean(features, axis=0)"
      ],
      "execution_count": 252,
      "outputs": []
    },
    {
      "cell_type": "code",
      "metadata": {
        "id": "hINbbV9lENwu"
      },
      "source": [
        "def sorted_alphanumeric(data):\n",
        "    convert = lambda text: int(text) if text.isdigit() else text.lower()\n",
        "    alphanum_key = lambda key: [ convert(c) for c in re.split('([0-9]+)', key) ] \n",
        "    return sorted(data, key=alphanum_key)"
      ],
      "execution_count": 253,
      "outputs": []
    },
    {
      "cell_type": "code",
      "metadata": {
        "id": "QSIffnoX8FoC"
      },
      "source": [
        "# feature extraction for speaker recognition\n",
        "def feature_extraction_S(dir):\n",
        "  df=pd.DataFrame()\n",
        "  Y=[]\n",
        "  for i in sorted_alphanumeric(os.listdir(dir)):\n",
        "    for files in os.listdir(dir+i):\n",
        "      sr, audio = read(dir+i+'/'+files)\n",
        "      features = get_MFCC(audio, sr)\n",
        "      row=pd.Series(features)\n",
        "      df=df.append(row,ignore_index=True)\n",
        "      Y.append(int(i[3:6]))\n",
        "  return df,Y"
      ],
      "execution_count": 254,
      "outputs": []
    },
    {
      "cell_type": "code",
      "metadata": {
        "id": "KfFxk2sCL_kI"
      },
      "source": [
        "# feature extraction for gender recognition\n",
        "def gen_features_G(dir):\n",
        "  df=pd.DataFrame()\n",
        "  Y=[]\n",
        "  for i in sorted_alphanumeric(os.listdir(dir)):\n",
        "    for files in os.listdir(dir+i):\n",
        "      sr, audio = read(dir+i+'/'+files)\n",
        "      features = get_MFCC(audio, sr)\n",
        "      row=pd.Series(features)\n",
        "      df=df.append(row,ignore_index=True)\n",
        "      if i[-1]=='F':\n",
        "        Y.append(0)\n",
        "      elif i[-1]=='M':\n",
        "        Y.append(1)\n",
        "  return df,Y"
      ],
      "execution_count": 255,
      "outputs": []
    },
    {
      "cell_type": "code",
      "metadata": {
        "id": "NRxP3fkVNSGj"
      },
      "source": [
        "# Sigmoid function\n",
        "def sigmoid(z):\n",
        "  s = 1/(1+np.exp(-z))\n",
        "  return s"
      ],
      "execution_count": 256,
      "outputs": []
    },
    {
      "cell_type": "code",
      "metadata": {
        "id": "wSsxz_LMOKWL"
      },
      "source": [
        "# Function for forward propagation\n",
        "def propagate(train_X,train_Y,w,j):\n",
        "  \n",
        "  m=train_Y.size\n",
        "  A= sigmoid(np.dot(np.transpose(w),np.transpose(train_X)))\n",
        "  cost = -(1/m)*(np.sum(train_Y.iloc[:,j]*np.log(A)+(1-train_Y.iloc[:,j])*np.log(1-A)))\n",
        "  dz=A-train_Y.iloc[:,j]\n",
        "  \n",
        "  dw=(1/m)*(np.dot(np.transpose(train_X),np.transpose(dz)))\n",
        "  return dw,cost"
      ],
      "execution_count": 257,
      "outputs": []
    },
    {
      "cell_type": "code",
      "metadata": {
        "id": "HPgsPNZ9OOAs"
      },
      "source": [
        "# function to update weights and calculate costs\n",
        "def optimize(train_X,train_Y,w,epochs,alpha,cost_arr,Y_train):\n",
        "  for i in range(epochs):\n",
        "    for j in range(len(np.unique(Y_train))):\n",
        "      w=pd.DataFrame(w)\n",
        "      dw,cost=propagate(train_X,train_Y,w.iloc[:,j],j)\n",
        "      cost_arr[i][j]=cost\n",
        "      w.iloc[:,j]=w.iloc[:,j]-(alpha*dw)\n",
        "  return w,cost_arr"
      ],
      "execution_count": 258,
      "outputs": []
    },
    {
      "cell_type": "code",
      "metadata": {
        "id": "nzbJmzI9ORnY"
      },
      "source": [
        "# function which calculates the Y_pred according to given threshold\n",
        "def predict(w,test_X,Y_pred):\n",
        "  m=test_X.shape[0]\n",
        "  A=sigmoid(np.dot(np.transpose(w),np.transpose(test_X)))\n",
        "  A=np.transpose(A)\n",
        "  return A\n",
        "  # return pred"
      ],
      "execution_count": 259,
      "outputs": []
    },
    {
      "cell_type": "code",
      "metadata": {
        "id": "IH7OLs_CuyRN"
      },
      "source": [
        "def predictions(theta,features_test,Y_train,df_test):\n",
        "  output = []\n",
        "  pred=[]\n",
        "  for i in range(len(np.unique(Y_train))):\n",
        "    Y_pred=np.zeros((df_test.shape[0],1))\n",
        "    theta = pd.DataFrame(theta)\n",
        "    if i>0:\n",
        "      Y_pred=h\n",
        "    h = predict(theta.iloc[:,i], features_test,Y_pred)\n",
        "    output.append(h)\n",
        "  dff=pd.DataFrame(output)\n",
        "  for i in range(features_test.shape[0]):\n",
        "    y=np.argmax(dff[i])+1\n",
        "    pred.append(y)\n",
        "  return pred"
      ],
      "execution_count": 267,
      "outputs": []
    },
    {
      "cell_type": "markdown",
      "metadata": {
        "id": "1g2yQKdqOOgy"
      },
      "source": [
        "#**Speaker Recognition**"
      ]
    },
    {
      "cell_type": "code",
      "metadata": {
        "id": "DyMxBK2qx1_V"
      },
      "source": [
        "# Directories of all datasets\n",
        "dir_train='/content/Speaker_Recognition/Train/'\n",
        "dir_valid='/content/Speaker_Recognition/Valid/'\n",
        "dir_test='/content/Speaker_Recognition/Test/'"
      ],
      "execution_count": 261,
      "outputs": []
    },
    {
      "cell_type": "code",
      "metadata": {
        "id": "NlNbRI82SUcM"
      },
      "source": [
        "# Extracting features and Y values of all the datasets \n",
        "\n",
        "df_train,Y_train=feature_extraction_S(dir_train)\n",
        "df_valid,Y_valid=feature_extraction_S(dir_valid)\n",
        "df_test,Y_test=feature_extraction_S(dir_test)"
      ],
      "execution_count": 262,
      "outputs": []
    },
    {
      "cell_type": "code",
      "metadata": {
        "id": "fCUdY69MOzbq"
      },
      "source": [
        "# Inserting row of 1 in all feature vectors for bias term.\n",
        "features_vec=np.insert(df_train.values,0,1,axis=1)\n",
        "features_valid=np.insert(df_valid.values,0,1,axis=1)\n",
        "features_test=np.insert(df_test.values,0,1,axis=1)"
      ],
      "execution_count": 263,
      "outputs": []
    },
    {
      "cell_type": "code",
      "metadata": {
        "id": "EonBIrQHDZb-"
      },
      "source": [
        "# Creating list of size number of instances in train  x number of classes (142)\n",
        "# This might take few seconds\n",
        "# One hot encoding\n",
        "Y_train=np.array(Y_train)\n",
        "# Initializing all the values to zero\n",
        "y1=np.zeros([df_train.shape[0],len(np.unique(Y_train))])\n",
        "y1=pd.DataFrame(y1)\n",
        "for i in range(0, len(np.unique(Y_train))):\n",
        "    for j in range(0, len(y1)):\n",
        "        if Y_train[j] == np.unique(Y_train)[i]:\n",
        "            y1.iloc[j, i] = 1\n",
        "        else: \n",
        "            y1.iloc[j, i] = 0"
      ],
      "execution_count": 264,
      "outputs": []
    },
    {
      "cell_type": "code",
      "metadata": {
        "id": "NxMeIKiyKcQF"
      },
      "source": [
        "# This cell is used for training\n",
        "# optimize function returns theta array and array containing cost of each class in each iteration  \n",
        "# This might take 10-15 minutes\n",
        "theta=np.zeros([df_train.shape[1]+1,y1.shape[1]])\n",
        "cost_arr=np.zeros([1500,len(np.unique(Y_train))])\n",
        "theta,cost_arr=optimize(features_vec,y1,theta,1500,0.5,cost_arr,Y_train)"
      ],
      "execution_count": 265,
      "outputs": []
    },
    {
      "cell_type": "code",
      "metadata": {
        "colab": {
          "base_uri": "https://localhost:8080/",
          "height": 279
        },
        "id": "nOihzO7r3eWh",
        "outputId": "208ae391-f296-4570-8d88-8eac8360d09c"
      },
      "source": [
        "# Plots the graph of cost vs number of iterations for all classes i.e. 142 lines\n",
        "cost_arr=pd.DataFrame(cost_arr)\n",
        "for i in range(cost_arr.shape[1]):\n",
        "  plt.plot(cost_arr[i])\n",
        "plt.xlabel('Epochs')\n",
        "plt.ylabel('Cost')\n",
        "plt.show()"
      ],
      "execution_count": 268,
      "outputs": [
        {
          "output_type": "display_data",
          "data": {
            "image/png": "[encoded data removed]",
            "text/plain": [
              "<Figure size 432x288 with 1 Axes>"
            ]
          },
          "metadata": {
            "tags": [],
            "needs_background": "light"
          }
        }
      ]
    },
    {
      "cell_type": "code",
      "metadata": {
        "id": "pC-N18qEjYrE"
      },
      "source": [
        "pred=predictions(theta,features_test,Y_train,df_test)"
      ],
      "execution_count": 269,
      "outputs": []
    },
    {
      "cell_type": "code",
      "metadata": {
        "colab": {
          "base_uri": "https://localhost:8080/"
        },
        "id": "oHEK78L2ZquB",
        "outputId": "92eb47df-9ecf-4fbc-a103-1c640576ddac"
      },
      "source": [
        "accuracy=accuracy_score(Y_test,pred)\n",
        "print('Accuracy:',accuracy)"
      ],
      "execution_count": 270,
      "outputs": [
        {
          "output_type": "stream",
          "text": [
            "Accuracy: 0.9014084507042254\n"
          ],
          "name": "stdout"
        }
      ]
    },
    {
      "cell_type": "code",
      "metadata": {
        "colab": {
          "base_uri": "https://localhost:8080/"
        },
        "id": "we5Yq7fP8lzA",
        "outputId": "8deeb183-c435-4b72-8c53-fcac0e411c55"
      },
      "source": [
        "f1score=f1_score(Y_test,pred,average='macro')\n",
        "print(f1score)"
      ],
      "execution_count": 271,
      "outputs": [
        {
          "output_type": "stream",
          "text": [
            "0.8927230046948357\n"
          ],
          "name": "stdout"
        }
      ]
    },
    {
      "cell_type": "code",
      "metadata": {
        "colab": {
          "base_uri": "https://localhost:8080/"
        },
        "id": "xuDtDS8upRlQ",
        "outputId": "5f2c6115-d53f-4180-bf41-823e6777fcc6"
      },
      "source": [
        "matrix=confusion_matrix(Y_test,pred)\n",
        "print('Confusion Matrix:')\n",
        "print(matrix)"
      ],
      "execution_count": 272,
      "outputs": [
        {
          "output_type": "stream",
          "text": [
            "Confusion Matrix:\n",
            "[[2 0 0 ... 0 0 0]\n",
            " [0 2 0 ... 0 0 0]\n",
            " [0 0 2 ... 0 0 0]\n",
            " ...\n",
            " [0 0 0 ... 1 0 0]\n",
            " [0 0 0 ... 0 2 0]\n",
            " [0 0 0 ... 0 0 2]]\n"
          ],
          "name": "stdout"
        }
      ]
    },
    {
      "cell_type": "code",
      "metadata": {
        "colab": {
          "base_uri": "https://localhost:8080/"
        },
        "id": "i81G1TsakrBq",
        "outputId": "9490a4c4-6a19-4df3-ed28-2add382d3a6c"
      },
      "source": [
        "classification_rep=classification_report(Y_test,pred,zero_division=1)\n",
        "print(classification_rep)"
      ],
      "execution_count": 273,
      "outputs": [
        {
          "output_type": "stream",
          "text": [
            "              precision    recall  f1-score   support\n",
            "\n",
            "           1       1.00      1.00      1.00         2\n",
            "           2       1.00      1.00      1.00         2\n",
            "           3       1.00      1.00      1.00         2\n",
            "           4       1.00      1.00      1.00         2\n",
            "           5       1.00      0.50      0.67         2\n",
            "           6       1.00      1.00      1.00         2\n",
            "           7       1.00      1.00      1.00         2\n",
            "           8       0.67      1.00      0.80         2\n",
            "           9       1.00      1.00      1.00         2\n",
            "          10       0.67      1.00      0.80         2\n",
            "          11       1.00      1.00      1.00         2\n",
            "          12       1.00      1.00      1.00         2\n",
            "          13       1.00      1.00      1.00         2\n",
            "          14       1.00      1.00      1.00         2\n",
            "          15       1.00      1.00      1.00         2\n",
            "          16       1.00      0.50      0.67         2\n",
            "          17       0.67      1.00      0.80         2\n",
            "          18       1.00      1.00      1.00         2\n",
            "          19       1.00      1.00      1.00         2\n",
            "          20       1.00      0.50      0.67         2\n",
            "          21       0.67      1.00      0.80         2\n",
            "          22       1.00      1.00      1.00         2\n",
            "          23       1.00      0.50      0.67         2\n",
            "          24       1.00      0.50      0.67         2\n",
            "          25       1.00      0.50      0.67         2\n",
            "          26       1.00      1.00      1.00         2\n",
            "          27       1.00      1.00      1.00         2\n",
            "          28       1.00      1.00      1.00         2\n",
            "          29       1.00      1.00      1.00         2\n",
            "          30       0.67      1.00      0.80         2\n",
            "          31       1.00      0.50      0.67         2\n",
            "          32       0.50      1.00      0.67         2\n",
            "          33       1.00      1.00      1.00         2\n",
            "          34       1.00      1.00      1.00         2\n",
            "          35       1.00      0.50      0.67         2\n",
            "          36       1.00      0.50      0.67         2\n",
            "          37       1.00      1.00      1.00         2\n",
            "          38       1.00      0.00      0.00         2\n",
            "          39       1.00      1.00      1.00         2\n",
            "          40       1.00      1.00      1.00         2\n",
            "          41       1.00      1.00      1.00         2\n",
            "          42       0.50      0.50      0.50         2\n",
            "          43       1.00      1.00      1.00         2\n",
            "          44       1.00      1.00      1.00         2\n",
            "          45       1.00      0.50      0.67         2\n",
            "          46       0.67      1.00      0.80         2\n",
            "          47       0.67      1.00      0.80         2\n",
            "          48       1.00      1.00      1.00         2\n",
            "          49       1.00      0.50      0.67         2\n",
            "          50       1.00      1.00      1.00         2\n",
            "          51       1.00      1.00      1.00         2\n",
            "          52       1.00      1.00      1.00         2\n",
            "          53       1.00      0.50      0.67         2\n",
            "          54       0.67      1.00      0.80         2\n",
            "          55       1.00      1.00      1.00         2\n",
            "          56       1.00      0.50      0.67         2\n",
            "          57       1.00      1.00      1.00         2\n",
            "          58       1.00      1.00      1.00         2\n",
            "          59       1.00      1.00      1.00         2\n",
            "          60       1.00      1.00      1.00         2\n",
            "          61       1.00      1.00      1.00         2\n",
            "          62       1.00      1.00      1.00         2\n",
            "          63       1.00      1.00      1.00         2\n",
            "          64       1.00      1.00      1.00         2\n",
            "          65       0.67      1.00      0.80         2\n",
            "          66       1.00      1.00      1.00         2\n",
            "          67       1.00      1.00      1.00         2\n",
            "          68       1.00      1.00      1.00         2\n",
            "          69       1.00      1.00      1.00         2\n",
            "          70       1.00      1.00      1.00         2\n",
            "          71       1.00      1.00      1.00         2\n",
            "          72       1.00      1.00      1.00         2\n",
            "          73       1.00      1.00      1.00         2\n",
            "          74       1.00      0.50      0.67         2\n",
            "          75       1.00      1.00      1.00         2\n",
            "          76       0.67      1.00      0.80         2\n",
            "          77       1.00      0.50      0.67         2\n",
            "          78       0.67      1.00      0.80         2\n",
            "          79       1.00      1.00      1.00         2\n",
            "          80       1.00      1.00      1.00         2\n",
            "          81       0.67      1.00      0.80         2\n",
            "          82       1.00      1.00      1.00         2\n",
            "          83       0.50      1.00      0.67         2\n",
            "          84       1.00      1.00      1.00         2\n",
            "          85       1.00      0.50      0.67         2\n",
            "          86       1.00      0.50      0.67         2\n",
            "          87       0.67      1.00      0.80         2\n",
            "          88       1.00      1.00      1.00         2\n",
            "          89       0.67      1.00      0.80         2\n",
            "          90       1.00      0.50      0.67         2\n",
            "          91       1.00      1.00      1.00         2\n",
            "          92       1.00      1.00      1.00         2\n",
            "          93       1.00      1.00      1.00         2\n",
            "          94       1.00      1.00      1.00         2\n",
            "          95       0.67      1.00      0.80         2\n",
            "          96       1.00      0.50      0.67         2\n",
            "          97       1.00      0.50      0.67         2\n",
            "          98       1.00      1.00      1.00         2\n",
            "          99       1.00      1.00      1.00         2\n",
            "         100       1.00      1.00      1.00         2\n",
            "         101       0.00      0.00      0.00         2\n",
            "         102       1.00      1.00      1.00         2\n",
            "         103       1.00      0.50      0.67         2\n",
            "         104       1.00      1.00      1.00         2\n",
            "         105       1.00      1.00      1.00         2\n",
            "         106       0.67      1.00      0.80         2\n",
            "         107       1.00      1.00      1.00         2\n",
            "         108       1.00      1.00      1.00         2\n",
            "         109       1.00      1.00      1.00         2\n",
            "         110       1.00      1.00      1.00         2\n",
            "         111       0.67      1.00      0.80         2\n",
            "         112       1.00      1.00      1.00         2\n",
            "         113       1.00      1.00      1.00         2\n",
            "         114       1.00      1.00      1.00         2\n",
            "         115       0.67      1.00      0.80         2\n",
            "         116       1.00      1.00      1.00         2\n",
            "         117       1.00      1.00      1.00         2\n",
            "         118       1.00      1.00      1.00         2\n",
            "         119       1.00      0.50      0.67         2\n",
            "         120       1.00      1.00      1.00         2\n",
            "         121       1.00      1.00      1.00         2\n",
            "         122       1.00      1.00      1.00         2\n",
            "         123       1.00      1.00      1.00         2\n",
            "         124       1.00      1.00      1.00         2\n",
            "         125       0.67      1.00      0.80         2\n",
            "         126       1.00      1.00      1.00         2\n",
            "         127       1.00      1.00      1.00         2\n",
            "         128       1.00      1.00      1.00         2\n",
            "         129       1.00      1.00      1.00         2\n",
            "         130       1.00      1.00      1.00         2\n",
            "         131       1.00      1.00      1.00         2\n",
            "         132       0.67      1.00      0.80         2\n",
            "         133       1.00      1.00      1.00         2\n",
            "         134       1.00      1.00      1.00         2\n",
            "         135       1.00      1.00      1.00         2\n",
            "         136       1.00      1.00      1.00         2\n",
            "         137       0.67      1.00      0.80         2\n",
            "         138       1.00      1.00      1.00         2\n",
            "         139       0.67      1.00      0.80         2\n",
            "         140       1.00      0.50      0.67         2\n",
            "         141       1.00      1.00      1.00         2\n",
            "         142       1.00      1.00      1.00         2\n",
            "\n",
            "    accuracy                           0.90       284\n",
            "   macro avg       0.93      0.90      0.89       284\n",
            "weighted avg       0.93      0.90      0.89       284\n",
            "\n"
          ],
          "name": "stdout"
        }
      ]
    },
    {
      "cell_type": "markdown",
      "metadata": {
        "id": "DSbpSQ8SjxnC"
      },
      "source": [
        "## **Gender Recognition**"
      ]
    },
    {
      "cell_type": "code",
      "metadata": {
        "id": "ccWMlLCA76Zb"
      },
      "source": [
        "# Directories of all datasets\n",
        "dir_train_G='/content/Gender_Recognition/Train/'\n",
        "dir_valid_G='/content/Gender_Recognition/Valid/'\n",
        "dir_test_G='/content/Gender_Recognition/Test/'"
      ],
      "execution_count": 274,
      "outputs": []
    },
    {
      "cell_type": "code",
      "metadata": {
        "id": "C_rpShTQNUFv"
      },
      "source": [
        "# Extracting features and Y values of all the datasets \n",
        "df_train_G,Y_train_G=gen_features_G(dir_train_G)\n",
        "df_valid_G,Y_valid_G=gen_features_G(dir_valid_G)\n",
        "df_test_G,Y_test_G=gen_features_G(dir_test_G)"
      ],
      "execution_count": 275,
      "outputs": []
    },
    {
      "cell_type": "code",
      "metadata": {
        "id": "NMRoX7kyL2Dr"
      },
      "source": [
        "# Inserting row of 1 in all feature vectors for bias term.\n",
        "df_train_G=np.insert(df_train_G.values,0,1,axis=1)\n",
        "features_valid_G=np.insert(df_valid_G.values,0,1,axis=1)\n",
        "features_test_G=np.insert(df_test_G.values,0,1,axis=1)"
      ],
      "execution_count": 276,
      "outputs": []
    },
    {
      "cell_type": "code",
      "metadata": {
        "id": "Nzy-BGm1L8k5"
      },
      "source": [
        "# Creating list of size number of instances in train  x number of classes (2)\n",
        "# one-hot encoding\n",
        "Y_train_G=np.array(Y_train_G)\n",
        "# Initializing all the values to 0\n",
        "y2=np.zeros([df_train_G.shape[0],len(np.unique(Y_train_G))])\n",
        "y2=pd.DataFrame(y2)\n",
        "for i in range(0, len(np.unique(Y_train_G))):\n",
        "    for j in range(0, len(y2)):\n",
        "        if Y_train_G[j] == np.unique(Y_train_G)[i]:\n",
        "            y2.iloc[j, i] = 1\n",
        "        else: \n",
        "            y2.iloc[j, i] = 0"
      ],
      "execution_count": 277,
      "outputs": []
    },
    {
      "cell_type": "code",
      "metadata": {
        "id": "afe2VR27OTDz"
      },
      "source": [
        "# This cell is used for training\n",
        "# optimize function returns theta array and array containing cost of each class in each iteration\n",
        "theta2=np.zeros([df_train_G.shape[1],y2.shape[1]])\n",
        "cost_arr2=np.zeros([1500,len(np.unique(Y_train_G))])\n",
        "theta2,cost_arr2=optimize(df_train_G,y2,theta2,1500,0.01,cost_arr2,Y_train_G)"
      ],
      "execution_count": 278,
      "outputs": []
    },
    {
      "cell_type": "code",
      "metadata": {
        "id": "Gg24UZR1QBaO"
      },
      "source": [
        "# All the values of Y_pred are calculated and stored in an array\n",
        "output = []\n",
        "pred=[]\n",
        "for i in range(len(np.unique(Y_train_G))):\n",
        "  Y_pred=np.zeros((df_valid_G.shape[0],1))\n",
        "  theta2 = pd.DataFrame(theta2)\n",
        "  if i>0:\n",
        "    Y_pred=h\n",
        "  h = predict(theta2.iloc[:,i],features_test_G ,Y_pred)\n",
        "  output.append(h)\n",
        "dff=pd.DataFrame(output)\n",
        "for i in range(features_test_G.shape[0]):\n",
        "  # Taking argmax across all classes\n",
        "  y=np.argmax(dff[i])\n",
        "  pred.append(y)\n"
      ],
      "execution_count": 279,
      "outputs": []
    },
    {
      "cell_type": "code",
      "metadata": {
        "colab": {
          "base_uri": "https://localhost:8080/"
        },
        "id": "jkivQtBBR5By",
        "outputId": "e7f4a3e8-eaba-4642-dace-66f8223e5294"
      },
      "source": [
        "accuracy=accuracy_score(Y_test_G,pred)\n",
        "print('Accuracy:',accuracy)"
      ],
      "execution_count": 280,
      "outputs": [
        {
          "output_type": "stream",
          "text": [
            "Accuracy: 0.8352941176470589\n"
          ],
          "name": "stdout"
        }
      ]
    },
    {
      "cell_type": "code",
      "metadata": {
        "colab": {
          "base_uri": "https://localhost:8080/",
          "height": 265
        },
        "id": "mXS1S_ZvSdep",
        "outputId": "4fe4e818-f2b5-4c4f-ab20-50deadf1f7e0"
      },
      "source": [
        "# Plots the graph of cost vs number of iterations for all classes i.e. 2\n",
        "cost_arr2=pd.DataFrame(cost_arr2)\n",
        "plt.figure()\n",
        "for i in range(cost_arr2.shape[1]):\n",
        "  plt.plot(cost_arr2[i])\n",
        "plt.show()\n"
      ],
      "execution_count": 281,
      "outputs": [
        {
          "output_type": "display_data",
          "data": {
            "image/png": "[encoded data removed]",
            "text/plain": [
              "<Figure size 432x288 with 1 Axes>"
            ]
          },
          "metadata": {
            "tags": [],
            "needs_background": "light"
          }
        }
      ]
    },
    {
      "cell_type": "code",
      "metadata": {
        "colab": {
          "base_uri": "https://localhost:8080/"
        },
        "id": "H4lKuCw8oI3N",
        "outputId": "e75e8aca-1789-4086-9b64-f1f7d7a49906"
      },
      "source": [
        "report=classification_report(Y_test_G,pred)\n",
        "print('Classification Report\\n\\n')\n",
        "print(report)"
      ],
      "execution_count": 282,
      "outputs": [
        {
          "output_type": "stream",
          "text": [
            "Classification Report\n",
            "\n",
            "\n",
            "              precision    recall  f1-score   support\n",
            "\n",
            "           0       0.69      0.55      0.61        40\n",
            "           1       0.87      0.92      0.90       130\n",
            "\n",
            "    accuracy                           0.84       170\n",
            "   macro avg       0.78      0.74      0.75       170\n",
            "weighted avg       0.83      0.84      0.83       170\n",
            "\n"
          ],
          "name": "stdout"
        }
      ]
    },
    {
      "cell_type": "code",
      "metadata": {
        "id": "CFVoN9POoJ1H"
      },
      "source": [
        "\n"
      ],
      "execution_count": null,
      "outputs": []
    }
  ]
}
